{
 "cells": [
  {
   "cell_type": "code",
   "execution_count": 3,
   "metadata": {},
   "outputs": [],
   "source": [
    "import PyPDF2 as pdf"
   ]
  },
  {
   "cell_type": "code",
   "execution_count": 4,
   "metadata": {},
   "outputs": [],
   "source": [
    "#path : C:\\Users\\Bhavya Shah\\Desktop\\machinelearning_lecture\\Research Papers/Haar-Cascade.pdf\n",
    "file=open(r'C:\\Users\\Bhavya Shah\\Desktop\\machinelearning_lecture\\Research Papers/A new Backpropogation algorithm without Gradient Descent.pdf','rb')\n",
    "#'rb' means read binary"
   ]
  },
  {
   "cell_type": "code",
   "execution_count": 5,
   "metadata": {},
   "outputs": [],
   "source": [
    "read_file=pdf.PdfFileReader(file)"
   ]
  },
  {
   "cell_type": "code",
   "execution_count": 6,
   "metadata": {},
   "outputs": [
    {
     "data": {
      "text/plain": [
       "15"
      ]
     },
     "execution_count": 6,
     "metadata": {},
     "output_type": "execute_result"
    }
   ],
   "source": [
    "read_file.numPages"
   ]
  },
  {
   "cell_type": "code",
   "execution_count": 7,
   "metadata": {},
   "outputs": [],
   "source": [
    "page= read_file.getPage(0)\n",
    "new=page.extractText()"
   ]
  },
  {
   "cell_type": "code",
   "execution_count": 8,
   "metadata": {},
   "outputs": [
    {
     "data": {
      "text/plain": [
       "['ANewBackpropagationAlgorithmwithout',\n",
       " 'GradientDescent',\n",
       " 'VarunRanganathan',\n",
       " 'StudentatPESUniversity',\n",
       " 'varunranga1997@hotmail.com',\n",
       " 'S.Natarajan',\n",
       " 'ProfessoratPESUniversity',\n",
       " 'natarajan@pes.edu',\n",
       " 'January2018',\n",
       " 'Abstract',\n",
       " 'Thebackpropagationalgorithm,whichhadbeenoriginallyintroduced',\n",
       " 'inthe1970s,istheworkhorseoflearninginneuralnetworks.Thisback-',\n",
       " 'propagationalgorithmmakesuseofthefamousmachinelearningalgo-',\n",
       " 'rithmknownasGradientDescent,whichisaiterativeopti-',\n",
       " 'mizationalgorithmfortheminimumofafunction.Toalocal',\n",
       " 'minimumofafunctionusinggradientdescent,onetakesstepspropor-',\n",
       " 'tionaltothenegativeofthegradient(oroftheapproximategradient)',\n",
       " 'ofthefunctionatthecurrentpoint.Inthispaper,wedevelopanalter-',\n",
       " 'nativetothebackpropagationwithouttheuseoftheGradientDescent',\n",
       " 'Algorithm,butinsteadwearegoingtodeviseanewalgorithmtothe',\n",
       " 'errorintheweightsandbiasesofanneuronusingMoore-Penrose',\n",
       " 'PseudoInverse.Thenumericalstudiesandtheexperimentsperformedon',\n",
       " 'variousdatasetsareusedtoverifytheworkingofthisalternativealgo-',\n",
       " 'rithm.',\n",
       " 'IndexTerms{MachineLearning,NeuralNetwork(ANN),Back-',\n",
       " 'propagation,Moore-PenrosePseudoInverse.',\n",
       " '1Introduction',\n",
       " 'NeuralNetwork(ANN),inspiredbybiologicalneuralnetworks,is',\n",
       " 'basedonacollectionofconnectedunitsornodescalledneurons.These',\n",
       " 'systemsareusedasalearningalgorithmwhichtriestomimichowthebrain',\n",
       " 'works.ANNsareconsiderasuniversalfunctionapproximators,thatis,itcan',\n",
       " 'approximatethefunctionforthedatasentthroughit.Itisbasedonthemul-',\n",
       " 'tilayerperceptron[3]modelwhichisaclassoffeedforwardneural',\n",
       " 'networks,consistingofatleastthreelayersofmodels.Learningoccursinthe',\n",
       " 'perceptronbychangingconnectionweightsaftereachpieceofdataisprocessed,',\n",
       " 'basedontheamountoferrorintheoutputcomparedtotheexpectedresult.',\n",
       " 'Thisisanexampleofsupervisedlearning,andiscarriedoutthroughback-',\n",
       " 'propagation,ageneralizationoftheleastmeansquaresalgorithminthelinear',\n",
       " '1',\n",
       " 'arXiv:1802.00027v1  [cs.LG]  25 Jan 2018']"
      ]
     },
     "execution_count": 8,
     "metadata": {},
     "output_type": "execute_result"
    }
   ],
   "source": [
    "new.split('\\n')"
   ]
  },
  {
   "cell_type": "code",
   "execution_count": 11,
   "metadata": {},
   "outputs": [],
   "source": [
    "import nltk\n",
    "from nltk.tokenize import word_tokenize\n",
    "from nltk.tag import pos_tag"
   ]
  },
  {
   "cell_type": "code",
   "execution_count": 12,
   "metadata": {},
   "outputs": [],
   "source": [
    "def preprocess(sent):\n",
    "    sent = nltk.word_tokenize(sent)\n",
    "    sent = nltk.pos_tag(sent)\n",
    "    return sent"
   ]
  },
  {
   "cell_type": "code",
   "execution_count": 16,
   "metadata": {},
   "outputs": [
    {
     "data": {
      "text/plain": [
       "str"
      ]
     },
     "execution_count": 16,
     "metadata": {},
     "output_type": "execute_result"
    }
   ],
   "source": [
    "text=new\n",
    "type(text)"
   ]
  },
  {
   "cell_type": "code",
   "execution_count": 18,
   "metadata": {},
   "outputs": [
    {
     "name": "stdout",
     "output_type": "stream",
     "text": [
      "[nltk_data] Downloading package averaged_perceptron_tagger to\n",
      "[nltk_data]     C:\\Users\\Bhavya Shah\\AppData\\Roaming\\nltk_data...\n",
      "[nltk_data]   Unzipping taggers\\averaged_perceptron_tagger.zip.\n"
     ]
    },
    {
     "data": {
      "text/plain": [
       "[('ANewBackpropagationAlgorithmwithout', 'IN'),\n",
       " ('GradientDescent', 'NNP'),\n",
       " ('VarunRanganathan', 'NNP'),\n",
       " ('StudentatPESUniversity', 'NNP'),\n",
       " ('varunranga1997', 'VBP'),\n",
       " ('@', 'NNP'),\n",
       " ('hotmail.com', 'NN'),\n",
       " ('S.Natarajan', 'NNP'),\n",
       " ('ProfessoratPESUniversity', 'NNP'),\n",
       " ('natarajan', 'RB'),\n",
       " ('@', 'NNP'),\n",
       " ('pes.edu', 'NN'),\n",
       " ('January2018', 'NNP'),\n",
       " ('Abstract', 'NNP'),\n",
       " ('Thebackpropagationalgorithm', 'NNP'),\n",
       " (',', ','),\n",
       " ('whichhadbeenoriginallyintroduced', 'VBD'),\n",
       " ('inthe1970s', 'NNS'),\n",
       " (',', ','),\n",
       " ('istheworkhorseoflearninginneuralnetworks.Thisback-', 'JJ'),\n",
       " ('propagationalgorithmmakesuseofthefamousmachinelearningalgo-', 'JJ'),\n",
       " ('rithmknownasGradientDescent', 'NN'),\n",
       " (',', ','),\n",
       " ('whichisaiterativeopti-', 'JJ'),\n",
       " ('mizationalgorithmfortheminimumofafunction.Toalocal', 'JJ'),\n",
       " ('minimumofafunctionusinggradientdescent', 'NN'),\n",
       " (',', ','),\n",
       " ('onetakesstepspropor-', 'JJ'),\n",
       " ('tionaltothenegativeofthegradient', 'NN'),\n",
       " ('(', '('),\n",
       " ('oroftheapproximategradient', 'NN'),\n",
       " (')', ')'),\n",
       " ('ofthefunctionatthecurrentpoint.Inthispaper', 'NN'),\n",
       " (',', ','),\n",
       " ('wedevelopanalter-', 'JJ'),\n",
       " ('nativetothebackpropagationwithouttheuseoftheGradientDescent', 'NN'),\n",
       " ('Algorithm', 'NNP'),\n",
       " (',', ','),\n",
       " ('butinsteadwearegoingtodeviseanewalgorithmtothe', 'VBD'),\n",
       " ('errorintheweightsandbiasesofanneuronusingMoore-Penrose', 'JJ'),\n",
       " ('PseudoInverse.Thenumericalstudiesandtheexperimentsperformedon', 'NNP'),\n",
       " ('variousdatasetsareusedtoverifytheworkingofthisalternativealgo-', 'NN'),\n",
       " ('rithm', 'NN'),\n",
       " ('.', '.'),\n",
       " ('IndexTerms', 'NNP'),\n",
       " ('{', '('),\n",
       " ('MachineLearning', 'NNP'),\n",
       " (',', ','),\n",
       " ('NeuralNetwork', 'NNP'),\n",
       " ('(', '('),\n",
       " ('ANN', 'NNP'),\n",
       " (')', ')'),\n",
       " (',', ','),\n",
       " ('Back-', 'NNP'),\n",
       " ('propagation', 'NN'),\n",
       " (',', ','),\n",
       " ('Moore-PenrosePseudoInverse', 'NNP'),\n",
       " ('.', '.'),\n",
       " ('1Introduction', 'CD'),\n",
       " ('NeuralNetwork', 'NNP'),\n",
       " ('(', '('),\n",
       " ('ANN', 'NNP'),\n",
       " (')', ')'),\n",
       " (',', ','),\n",
       " ('inspiredbybiologicalneuralnetworks', 'NNS'),\n",
       " (',', ','),\n",
       " ('is', 'VBZ'),\n",
       " ('basedonacollectionofconnectedunitsornodescalledneurons.These', 'JJ'),\n",
       " ('systemsareusedasalearningalgorithmwhichtriestomimichowthebrain', 'NN'),\n",
       " ('works.ANNsareconsiderasuniversalfunctionapproximators', 'NNS'),\n",
       " (',', ','),\n",
       " ('thatis', 'NN'),\n",
       " (',', ','),\n",
       " ('itcan', 'JJ'),\n",
       " ('approximatethefunctionforthedatasentthroughit.Itisbasedonthemul-', 'JJ'),\n",
       " ('tilayerperceptron', 'NN'),\n",
       " ('[', '$'),\n",
       " ('3', 'CD'),\n",
       " (']', 'NNP'),\n",
       " ('modelwhichisaclassoffeedforwardneural', 'JJ'),\n",
       " ('networks', 'NNS'),\n",
       " (',', ','),\n",
       " ('consistingofatleastthreelayersofmodels.Learningoccursinthe', 'NN'),\n",
       " ('perceptronbychangingconnectionweightsaftereachpieceofdataisprocessed',\n",
       "  'VBN'),\n",
       " (',', ','),\n",
       " ('basedontheamountoferrorintheoutputcomparedtotheexpectedresult', 'NN'),\n",
       " ('.', '.'),\n",
       " ('Thisisanexampleofsupervisedlearning', 'NNP'),\n",
       " (',', ','),\n",
       " ('andiscarriedoutthroughback-', 'JJ'),\n",
       " ('propagation', 'NN'),\n",
       " (',', ','),\n",
       " ('ageneralizationoftheleastmeansquaresalgorithminthelinear', 'VBP'),\n",
       " ('1', 'CD'),\n",
       " ('arXiv:1802.00027v1', 'JJ'),\n",
       " ('[', 'NNP'),\n",
       " ('cs.LG', 'NN'),\n",
       " (']', 'VBD'),\n",
       " ('25', 'CD'),\n",
       " ('Jan', 'NNP'),\n",
       " ('2018', 'CD')]"
      ]
     },
     "execution_count": 18,
     "metadata": {},
     "output_type": "execute_result"
    }
   ],
   "source": [
    " nltk.download('averaged_perceptron_tagger')\n",
    "sent = preprocess(text)\n",
    "sent"
   ]
  },
  {
   "cell_type": "code",
   "execution_count": 19,
   "metadata": {},
   "outputs": [
    {
     "name": "stdout",
     "output_type": "stream",
     "text": [
      "(S\n",
      "  ANewBackpropagationAlgorithmwithout/IN\n",
      "  GradientDescent/NNP\n",
      "  VarunRanganathan/NNP\n",
      "  StudentatPESUniversity/NNP\n",
      "  varunranga1997/VBP\n",
      "  @/NNP\n",
      "  (NP hotmail.com/NN)\n",
      "  S.Natarajan/NNP\n",
      "  ProfessoratPESUniversity/NNP\n",
      "  natarajan/RB\n",
      "  @/NNP\n",
      "  (NP pes.edu/NN)\n",
      "  January2018/NNP\n",
      "  Abstract/NNP\n",
      "  Thebackpropagationalgorithm/NNP\n",
      "  ,/,\n",
      "  whichhadbeenoriginallyintroduced/VBD\n",
      "  inthe1970s/NNS\n",
      "  ,/,\n",
      "  (NP\n",
      "    istheworkhorseoflearninginneuralnetworks.Thisback-/JJ\n",
      "    propagationalgorithmmakesuseofthefamousmachinelearningalgo-/JJ\n",
      "    rithmknownasGradientDescent/NN)\n",
      "  ,/,\n",
      "  (NP\n",
      "    whichisaiterativeopti-/JJ\n",
      "    mizationalgorithmfortheminimumofafunction.Toalocal/JJ\n",
      "    minimumofafunctionusinggradientdescent/NN)\n",
      "  ,/,\n",
      "  (NP onetakesstepspropor-/JJ tionaltothenegativeofthegradient/NN)\n",
      "  (/(\n",
      "  (NP oroftheapproximategradient/NN)\n",
      "  )/)\n",
      "  (NP ofthefunctionatthecurrentpoint.Inthispaper/NN)\n",
      "  ,/,\n",
      "  (NP\n",
      "    wedevelopanalter-/JJ\n",
      "    nativetothebackpropagationwithouttheuseoftheGradientDescent/NN)\n",
      "  Algorithm/NNP\n",
      "  ,/,\n",
      "  butinsteadwearegoingtodeviseanewalgorithmtothe/VBD\n",
      "  errorintheweightsandbiasesofanneuronusingMoore-Penrose/JJ\n",
      "  PseudoInverse.Thenumericalstudiesandtheexperimentsperformedon/NNP\n",
      "  (NP\n",
      "    variousdatasetsareusedtoverifytheworkingofthisalternativealgo-/NN)\n",
      "  (NP rithm/NN)\n",
      "  ./.\n",
      "  IndexTerms/NNP\n",
      "  {/(\n",
      "  MachineLearning/NNP\n",
      "  ,/,\n",
      "  NeuralNetwork/NNP\n",
      "  (/(\n",
      "  ANN/NNP\n",
      "  )/)\n",
      "  ,/,\n",
      "  Back-/NNP\n",
      "  (NP propagation/NN)\n",
      "  ,/,\n",
      "  Moore-PenrosePseudoInverse/NNP\n",
      "  ./.\n",
      "  1Introduction/CD\n",
      "  NeuralNetwork/NNP\n",
      "  (/(\n",
      "  ANN/NNP\n",
      "  )/)\n",
      "  ,/,\n",
      "  inspiredbybiologicalneuralnetworks/NNS\n",
      "  ,/,\n",
      "  is/VBZ\n",
      "  (NP\n",
      "    basedonacollectionofconnectedunitsornodescalledneurons.These/JJ\n",
      "    systemsareusedasalearningalgorithmwhichtriestomimichowthebrain/NN)\n",
      "  works.ANNsareconsiderasuniversalfunctionapproximators/NNS\n",
      "  ,/,\n",
      "  (NP thatis/NN)\n",
      "  ,/,\n",
      "  (NP\n",
      "    itcan/JJ\n",
      "    approximatethefunctionforthedatasentthroughit.Itisbasedonthemul-/JJ\n",
      "    tilayerperceptron/NN)\n",
      "  [/$\n",
      "  3/CD\n",
      "  ]/NNP\n",
      "  modelwhichisaclassoffeedforwardneural/JJ\n",
      "  networks/NNS\n",
      "  ,/,\n",
      "  (NP consistingofatleastthreelayersofmodels.Learningoccursinthe/NN)\n",
      "  perceptronbychangingconnectionweightsaftereachpieceofdataisprocessed/VBN\n",
      "  ,/,\n",
      "  (NP\n",
      "    basedontheamountoferrorintheoutputcomparedtotheexpectedresult/NN)\n",
      "  ./.\n",
      "  Thisisanexampleofsupervisedlearning/NNP\n",
      "  ,/,\n",
      "  (NP andiscarriedoutthroughback-/JJ propagation/NN)\n",
      "  ,/,\n",
      "  ageneralizationoftheleastmeansquaresalgorithminthelinear/VBP\n",
      "  1/CD\n",
      "  arXiv:1802.00027v1/JJ\n",
      "  [/NNP\n",
      "  (NP cs.LG/NN)\n",
      "  ]/VBD\n",
      "  25/CD\n",
      "  Jan/NNP\n",
      "  2018/CD)\n"
     ]
    }
   ],
   "source": [
    "pattern = 'NP: {<DT>?<JJ>*<NN>}'\n",
    "cp = nltk.RegexpParser(pattern)\n",
    "cs = cp.parse(sent)\n",
    "print(cs)"
   ]
  },
  {
   "cell_type": "code",
   "execution_count": 20,
   "metadata": {},
   "outputs": [
    {
     "name": "stdout",
     "output_type": "stream",
     "text": [
      "[('ANewBackpropagationAlgorithmwithout', 'IN', 'O'),\n",
      " ('GradientDescent', 'NNP', 'O'),\n",
      " ('VarunRanganathan', 'NNP', 'O'),\n",
      " ('StudentatPESUniversity', 'NNP', 'O'),\n",
      " ('varunranga1997', 'VBP', 'O'),\n",
      " ('@', 'NNP', 'O'),\n",
      " ('hotmail.com', 'NN', 'B-NP'),\n",
      " ('S.Natarajan', 'NNP', 'O'),\n",
      " ('ProfessoratPESUniversity', 'NNP', 'O'),\n",
      " ('natarajan', 'RB', 'O'),\n",
      " ('@', 'NNP', 'O'),\n",
      " ('pes.edu', 'NN', 'B-NP'),\n",
      " ('January2018', 'NNP', 'O'),\n",
      " ('Abstract', 'NNP', 'O'),\n",
      " ('Thebackpropagationalgorithm', 'NNP', 'O'),\n",
      " (',', ',', 'O'),\n",
      " ('whichhadbeenoriginallyintroduced', 'VBD', 'O'),\n",
      " ('inthe1970s', 'NNS', 'O'),\n",
      " (',', ',', 'O'),\n",
      " ('istheworkhorseoflearninginneuralnetworks.Thisback-', 'JJ', 'B-NP'),\n",
      " ('propagationalgorithmmakesuseofthefamousmachinelearningalgo-', 'JJ', 'I-NP'),\n",
      " ('rithmknownasGradientDescent', 'NN', 'I-NP'),\n",
      " (',', ',', 'O'),\n",
      " ('whichisaiterativeopti-', 'JJ', 'B-NP'),\n",
      " ('mizationalgorithmfortheminimumofafunction.Toalocal', 'JJ', 'I-NP'),\n",
      " ('minimumofafunctionusinggradientdescent', 'NN', 'I-NP'),\n",
      " (',', ',', 'O'),\n",
      " ('onetakesstepspropor-', 'JJ', 'B-NP'),\n",
      " ('tionaltothenegativeofthegradient', 'NN', 'I-NP'),\n",
      " ('(', '(', 'O'),\n",
      " ('oroftheapproximategradient', 'NN', 'B-NP'),\n",
      " (')', ')', 'O'),\n",
      " ('ofthefunctionatthecurrentpoint.Inthispaper', 'NN', 'B-NP'),\n",
      " (',', ',', 'O'),\n",
      " ('wedevelopanalter-', 'JJ', 'B-NP'),\n",
      " ('nativetothebackpropagationwithouttheuseoftheGradientDescent', 'NN', 'I-NP'),\n",
      " ('Algorithm', 'NNP', 'O'),\n",
      " (',', ',', 'O'),\n",
      " ('butinsteadwearegoingtodeviseanewalgorithmtothe', 'VBD', 'O'),\n",
      " ('errorintheweightsandbiasesofanneuronusingMoore-Penrose', 'JJ', 'O'),\n",
      " ('PseudoInverse.Thenumericalstudiesandtheexperimentsperformedon', 'NNP', 'O'),\n",
      " ('variousdatasetsareusedtoverifytheworkingofthisalternativealgo-',\n",
      "  'NN',\n",
      "  'B-NP'),\n",
      " ('rithm', 'NN', 'B-NP'),\n",
      " ('.', '.', 'O'),\n",
      " ('IndexTerms', 'NNP', 'O'),\n",
      " ('{', '(', 'O'),\n",
      " ('MachineLearning', 'NNP', 'O'),\n",
      " (',', ',', 'O'),\n",
      " ('NeuralNetwork', 'NNP', 'O'),\n",
      " ('(', '(', 'O'),\n",
      " ('ANN', 'NNP', 'O'),\n",
      " (')', ')', 'O'),\n",
      " (',', ',', 'O'),\n",
      " ('Back-', 'NNP', 'O'),\n",
      " ('propagation', 'NN', 'B-NP'),\n",
      " (',', ',', 'O'),\n",
      " ('Moore-PenrosePseudoInverse', 'NNP', 'O'),\n",
      " ('.', '.', 'O'),\n",
      " ('1Introduction', 'CD', 'O'),\n",
      " ('NeuralNetwork', 'NNP', 'O'),\n",
      " ('(', '(', 'O'),\n",
      " ('ANN', 'NNP', 'O'),\n",
      " (')', ')', 'O'),\n",
      " (',', ',', 'O'),\n",
      " ('inspiredbybiologicalneuralnetworks', 'NNS', 'O'),\n",
      " (',', ',', 'O'),\n",
      " ('is', 'VBZ', 'O'),\n",
      " ('basedonacollectionofconnectedunitsornodescalledneurons.These', 'JJ', 'B-NP'),\n",
      " ('systemsareusedasalearningalgorithmwhichtriestomimichowthebrain',\n",
      "  'NN',\n",
      "  'I-NP'),\n",
      " ('works.ANNsareconsiderasuniversalfunctionapproximators', 'NNS', 'O'),\n",
      " (',', ',', 'O'),\n",
      " ('thatis', 'NN', 'B-NP'),\n",
      " (',', ',', 'O'),\n",
      " ('itcan', 'JJ', 'B-NP'),\n",
      " ('approximatethefunctionforthedatasentthroughit.Itisbasedonthemul-',\n",
      "  'JJ',\n",
      "  'I-NP'),\n",
      " ('tilayerperceptron', 'NN', 'I-NP'),\n",
      " ('[', '$', 'O'),\n",
      " ('3', 'CD', 'O'),\n",
      " (']', 'NNP', 'O'),\n",
      " ('modelwhichisaclassoffeedforwardneural', 'JJ', 'O'),\n",
      " ('networks', 'NNS', 'O'),\n",
      " (',', ',', 'O'),\n",
      " ('consistingofatleastthreelayersofmodels.Learningoccursinthe', 'NN', 'B-NP'),\n",
      " ('perceptronbychangingconnectionweightsaftereachpieceofdataisprocessed',\n",
      "  'VBN',\n",
      "  'O'),\n",
      " (',', ',', 'O'),\n",
      " ('basedontheamountoferrorintheoutputcomparedtotheexpectedresult',\n",
      "  'NN',\n",
      "  'B-NP'),\n",
      " ('.', '.', 'O'),\n",
      " ('Thisisanexampleofsupervisedlearning', 'NNP', 'O'),\n",
      " (',', ',', 'O'),\n",
      " ('andiscarriedoutthroughback-', 'JJ', 'B-NP'),\n",
      " ('propagation', 'NN', 'I-NP'),\n",
      " (',', ',', 'O'),\n",
      " ('ageneralizationoftheleastmeansquaresalgorithminthelinear', 'VBP', 'O'),\n",
      " ('1', 'CD', 'O'),\n",
      " ('arXiv:1802.00027v1', 'JJ', 'O'),\n",
      " ('[', 'NNP', 'O'),\n",
      " ('cs.LG', 'NN', 'B-NP'),\n",
      " (']', 'VBD', 'O'),\n",
      " ('25', 'CD', 'O'),\n",
      " ('Jan', 'NNP', 'O'),\n",
      " ('2018', 'CD', 'O')]\n"
     ]
    }
   ],
   "source": [
    "from nltk.chunk import conlltags2tree, tree2conlltags\n",
    "from pprint import pprint\n",
    "iob_tagged = tree2conlltags(cs)\n",
    "pprint(iob_tagged)\n"
   ]
  },
  {
   "cell_type": "code",
   "execution_count": 21,
   "metadata": {},
   "outputs": [
    {
     "ename": "NameError",
     "evalue": "name 'ne_chunk' is not defined",
     "output_type": "error",
     "traceback": [
      "\u001b[1;31m---------------------------------------------------------------------------\u001b[0m",
      "\u001b[1;31mNameError\u001b[0m                                 Traceback (most recent call last)",
      "\u001b[1;32m<ipython-input-21-a7529313043e>\u001b[0m in \u001b[0;36m<module>\u001b[1;34m()\u001b[0m\n\u001b[1;32m----> 1\u001b[1;33m \u001b[0mne_tree\u001b[0m \u001b[1;33m=\u001b[0m \u001b[0mne_chunk\u001b[0m\u001b[1;33m(\u001b[0m\u001b[0mpos_tag\u001b[0m\u001b[1;33m(\u001b[0m\u001b[0mword_tokenize\u001b[0m\u001b[1;33m(\u001b[0m\u001b[0mex\u001b[0m\u001b[1;33m)\u001b[0m\u001b[1;33m)\u001b[0m\u001b[1;33m)\u001b[0m\u001b[1;33m\u001b[0m\u001b[0m\n\u001b[0m\u001b[0;32m      2\u001b[0m \u001b[0mprint\u001b[0m\u001b[1;33m(\u001b[0m\u001b[0mne_tree\u001b[0m\u001b[1;33m)\u001b[0m\u001b[1;33m\u001b[0m\u001b[0m\n",
      "\u001b[1;31mNameError\u001b[0m: name 'ne_chunk' is not defined"
     ]
    }
   ],
   "source": [
    "ne_tree = ne_chunk(pos_tag(word_tokenize(ex)))\n",
    "print(ne_tree)"
   ]
  },
  {
   "cell_type": "code",
   "execution_count": null,
   "metadata": {},
   "outputs": [],
   "source": []
  }
 ],
 "metadata": {
  "kernelspec": {
   "display_name": "Python 3",
   "language": "python",
   "name": "python3"
  },
  "language_info": {
   "codemirror_mode": {
    "name": "ipython",
    "version": 3
   },
   "file_extension": ".py",
   "mimetype": "text/x-python",
   "name": "python",
   "nbconvert_exporter": "python",
   "pygments_lexer": "ipython3",
   "version": "3.6.5"
  }
 },
 "nbformat": 4,
 "nbformat_minor": 2
}
