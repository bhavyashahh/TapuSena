{
  "nbformat": 4,
  "nbformat_minor": 0,
  "metadata": {
    "colab": {
      "name": "AU_Hackathon.ipynb",
      "version": "0.3.2",
      "provenance": []
    },
    "kernelspec": {
      "display_name": "Python 3",
      "language": "python",
      "name": "python3"
    }
  },
  "cells": [
    {
      "metadata": {
        "id": "khQYNZdx_C9f",
        "colab_type": "code",
        "colab": {}
      },
      "cell_type": "code",
      "source": [
        "import PyPDF2 as pdf"
      ],
      "execution_count": 0,
      "outputs": []
    },
    {
      "metadata": {
        "id": "JuTPgeUb_C9l",
        "colab_type": "code",
        "colab": {}
      },
      "cell_type": "code",
      "source": [
        "#path : C:\\Users\\Bhavya Shah\\Desktop\\machinelearning_lecture\\Research Papers/Haar-Cascade.pdf\n",
        "file=open(r'C:\\Users\\Bhavya Shah\\Desktop\\machinelearning_lecture\\Research Papers/A new Backpropogation algorithm without Gradient Descent.pdf','rb')\n",
        "#'rb' means read binary"
      ],
      "execution_count": 0,
      "outputs": []
    },
    {
      "metadata": {
        "id": "3U3HnGl3_C9o",
        "colab_type": "code",
        "colab": {}
      },
      "cell_type": "code",
      "source": [
        "read_file=pdf.PdfFileReader(file)"
      ],
      "execution_count": 0,
      "outputs": []
    },
    {
      "metadata": {
        "id": "lR3Y4HZx_C9t",
        "colab_type": "code",
        "colab": {},
        "outputId": "abb37d5d-b3c8-4962-97e4-53560a806b6b"
      },
      "cell_type": "code",
      "source": [
        "read_file.numPages"
      ],
      "execution_count": 0,
      "outputs": [
        {
          "output_type": "execute_result",
          "data": {
            "text/plain": [
              "15"
            ]
          },
          "metadata": {
            "tags": []
          },
          "execution_count": 6
        }
      ]
    },
    {
      "metadata": {
        "id": "NVmfZRtD_C9z",
        "colab_type": "code",
        "colab": {}
      },
      "cell_type": "code",
      "source": [
        "page= read_file.getPage(0)\n",
        "new=page.extractText()"
      ],
      "execution_count": 0,
      "outputs": []
    },
    {
      "metadata": {
        "id": "xeeFgmZ-_C92",
        "colab_type": "code",
        "colab": {},
        "outputId": "71594204-5b96-4c27-f27e-d4bd84a4c029"
      },
      "cell_type": "code",
      "source": [
        "new.split('\\n')"
      ],
      "execution_count": 0,
      "outputs": [
        {
          "output_type": "execute_result",
          "data": {
            "text/plain": [
              "['ANewBackpropagationAlgorithmwithout',\n",
              " 'GradientDescent',\n",
              " 'VarunRanganathan',\n",
              " 'StudentatPESUniversity',\n",
              " 'varunranga1997@hotmail.com',\n",
              " 'S.Natarajan',\n",
              " 'ProfessoratPESUniversity',\n",
              " 'natarajan@pes.edu',\n",
              " 'January2018',\n",
              " 'Abstract',\n",
              " 'Thebackpropagationalgorithm,whichhadbeenoriginallyintroduced',\n",
              " 'inthe1970s,istheworkhorseoflearninginneuralnetworks.Thisback-',\n",
              " 'propagationalgorithmmakesuseofthefamousmachinelearningalgo-',\n",
              " 'rithmknownasGradientDescent,whichisaiterativeopti-',\n",
              " 'mizationalgorithmfortheminimumofafunction.Toalocal',\n",
              " 'minimumofafunctionusinggradientdescent,onetakesstepspropor-',\n",
              " 'tionaltothenegativeofthegradient(oroftheapproximategradient)',\n",
              " 'ofthefunctionatthecurrentpoint.Inthispaper,wedevelopanalter-',\n",
              " 'nativetothebackpropagationwithouttheuseoftheGradientDescent',\n",
              " 'Algorithm,butinsteadwearegoingtodeviseanewalgorithmtothe',\n",
              " 'errorintheweightsandbiasesofanneuronusingMoore-Penrose',\n",
              " 'PseudoInverse.Thenumericalstudiesandtheexperimentsperformedon',\n",
              " 'variousdatasetsareusedtoverifytheworkingofthisalternativealgo-',\n",
              " 'rithm.',\n",
              " 'IndexTerms{MachineLearning,NeuralNetwork(ANN),Back-',\n",
              " 'propagation,Moore-PenrosePseudoInverse.',\n",
              " '1Introduction',\n",
              " 'NeuralNetwork(ANN),inspiredbybiologicalneuralnetworks,is',\n",
              " 'basedonacollectionofconnectedunitsornodescalledneurons.These',\n",
              " 'systemsareusedasalearningalgorithmwhichtriestomimichowthebrain',\n",
              " 'works.ANNsareconsiderasuniversalfunctionapproximators,thatis,itcan',\n",
              " 'approximatethefunctionforthedatasentthroughit.Itisbasedonthemul-',\n",
              " 'tilayerperceptron[3]modelwhichisaclassoffeedforwardneural',\n",
              " 'networks,consistingofatleastthreelayersofmodels.Learningoccursinthe',\n",
              " 'perceptronbychangingconnectionweightsaftereachpieceofdataisprocessed,',\n",
              " 'basedontheamountoferrorintheoutputcomparedtotheexpectedresult.',\n",
              " 'Thisisanexampleofsupervisedlearning,andiscarriedoutthroughback-',\n",
              " 'propagation,ageneralizationoftheleastmeansquaresalgorithminthelinear',\n",
              " '1',\n",
              " 'arXiv:1802.00027v1  [cs.LG]  25 Jan 2018']"
            ]
          },
          "metadata": {
            "tags": []
          },
          "execution_count": 8
        }
      ]
    },
    {
      "metadata": {
        "id": "VeImqhDQ_C97",
        "colab_type": "code",
        "colab": {}
      },
      "cell_type": "code",
      "source": [
        "import nltk\n",
        "from nltk.tokenize import word_tokenize\n",
        "from nltk.tag import pos_tag"
      ],
      "execution_count": 0,
      "outputs": []
    },
    {
      "metadata": {
        "id": "m_rh8p82_C9_",
        "colab_type": "code",
        "colab": {}
      },
      "cell_type": "code",
      "source": [
        "def preprocess(sent):\n",
        "    sent = nltk.word_tokenize(sent)\n",
        "    sent = nltk.pos_tag(sent)\n",
        "    return sent"
      ],
      "execution_count": 0,
      "outputs": []
    },
    {
      "metadata": {
        "id": "CmuovOj__C-C",
        "colab_type": "code",
        "colab": {},
        "outputId": "8a18e902-9614-464c-ae63-ad793930234b"
      },
      "cell_type": "code",
      "source": [
        "text=new\n",
        "type(text)"
      ],
      "execution_count": 0,
      "outputs": [
        {
          "output_type": "execute_result",
          "data": {
            "text/plain": [
              "str"
            ]
          },
          "metadata": {
            "tags": []
          },
          "execution_count": 16
        }
      ]
    },
    {
      "metadata": {
        "id": "V2rIGj6c_C-L",
        "colab_type": "code",
        "colab": {},
        "outputId": "dffa4252-c445-4c1c-a0f7-77a219ca162b"
      },
      "cell_type": "code",
      "source": [
        " nltk.download('averaged_perceptron_tagger')\n",
        "sent = preprocess(text)\n",
        "sent"
      ],
      "execution_count": 0,
      "outputs": [
        {
          "output_type": "stream",
          "text": [
            "[nltk_data] Downloading package averaged_perceptron_tagger to\n",
            "[nltk_data]     C:\\Users\\Bhavya Shah\\AppData\\Roaming\\nltk_data...\n",
            "[nltk_data]   Unzipping taggers\\averaged_perceptron_tagger.zip.\n"
          ],
          "name": "stdout"
        },
        {
          "output_type": "execute_result",
          "data": {
            "text/plain": [
              "[('ANewBackpropagationAlgorithmwithout', 'IN'),\n",
              " ('GradientDescent', 'NNP'),\n",
              " ('VarunRanganathan', 'NNP'),\n",
              " ('StudentatPESUniversity', 'NNP'),\n",
              " ('varunranga1997', 'VBP'),\n",
              " ('@', 'NNP'),\n",
              " ('hotmail.com', 'NN'),\n",
              " ('S.Natarajan', 'NNP'),\n",
              " ('ProfessoratPESUniversity', 'NNP'),\n",
              " ('natarajan', 'RB'),\n",
              " ('@', 'NNP'),\n",
              " ('pes.edu', 'NN'),\n",
              " ('January2018', 'NNP'),\n",
              " ('Abstract', 'NNP'),\n",
              " ('Thebackpropagationalgorithm', 'NNP'),\n",
              " (',', ','),\n",
              " ('whichhadbeenoriginallyintroduced', 'VBD'),\n",
              " ('inthe1970s', 'NNS'),\n",
              " (',', ','),\n",
              " ('istheworkhorseoflearninginneuralnetworks.Thisback-', 'JJ'),\n",
              " ('propagationalgorithmmakesuseofthefamousmachinelearningalgo-', 'JJ'),\n",
              " ('rithmknownasGradientDescent', 'NN'),\n",
              " (',', ','),\n",
              " ('whichisaiterativeopti-', 'JJ'),\n",
              " ('mizationalgorithmfortheminimumofafunction.Toalocal', 'JJ'),\n",
              " ('minimumofafunctionusinggradientdescent', 'NN'),\n",
              " (',', ','),\n",
              " ('onetakesstepspropor-', 'JJ'),\n",
              " ('tionaltothenegativeofthegradient', 'NN'),\n",
              " ('(', '('),\n",
              " ('oroftheapproximategradient', 'NN'),\n",
              " (')', ')'),\n",
              " ('ofthefunctionatthecurrentpoint.Inthispaper', 'NN'),\n",
              " (',', ','),\n",
              " ('wedevelopanalter-', 'JJ'),\n",
              " ('nativetothebackpropagationwithouttheuseoftheGradientDescent', 'NN'),\n",
              " ('Algorithm', 'NNP'),\n",
              " (',', ','),\n",
              " ('butinsteadwearegoingtodeviseanewalgorithmtothe', 'VBD'),\n",
              " ('errorintheweightsandbiasesofanneuronusingMoore-Penrose', 'JJ'),\n",
              " ('PseudoInverse.Thenumericalstudiesandtheexperimentsperformedon', 'NNP'),\n",
              " ('variousdatasetsareusedtoverifytheworkingofthisalternativealgo-', 'NN'),\n",
              " ('rithm', 'NN'),\n",
              " ('.', '.'),\n",
              " ('IndexTerms', 'NNP'),\n",
              " ('{', '('),\n",
              " ('MachineLearning', 'NNP'),\n",
              " (',', ','),\n",
              " ('NeuralNetwork', 'NNP'),\n",
              " ('(', '('),\n",
              " ('ANN', 'NNP'),\n",
              " (')', ')'),\n",
              " (',', ','),\n",
              " ('Back-', 'NNP'),\n",
              " ('propagation', 'NN'),\n",
              " (',', ','),\n",
              " ('Moore-PenrosePseudoInverse', 'NNP'),\n",
              " ('.', '.'),\n",
              " ('1Introduction', 'CD'),\n",
              " ('NeuralNetwork', 'NNP'),\n",
              " ('(', '('),\n",
              " ('ANN', 'NNP'),\n",
              " (')', ')'),\n",
              " (',', ','),\n",
              " ('inspiredbybiologicalneuralnetworks', 'NNS'),\n",
              " (',', ','),\n",
              " ('is', 'VBZ'),\n",
              " ('basedonacollectionofconnectedunitsornodescalledneurons.These', 'JJ'),\n",
              " ('systemsareusedasalearningalgorithmwhichtriestomimichowthebrain', 'NN'),\n",
              " ('works.ANNsareconsiderasuniversalfunctionapproximators', 'NNS'),\n",
              " (',', ','),\n",
              " ('thatis', 'NN'),\n",
              " (',', ','),\n",
              " ('itcan', 'JJ'),\n",
              " ('approximatethefunctionforthedatasentthroughit.Itisbasedonthemul-', 'JJ'),\n",
              " ('tilayerperceptron', 'NN'),\n",
              " ('[', '$'),\n",
              " ('3', 'CD'),\n",
              " (']', 'NNP'),\n",
              " ('modelwhichisaclassoffeedforwardneural', 'JJ'),\n",
              " ('networks', 'NNS'),\n",
              " (',', ','),\n",
              " ('consistingofatleastthreelayersofmodels.Learningoccursinthe', 'NN'),\n",
              " ('perceptronbychangingconnectionweightsaftereachpieceofdataisprocessed',\n",
              "  'VBN'),\n",
              " (',', ','),\n",
              " ('basedontheamountoferrorintheoutputcomparedtotheexpectedresult', 'NN'),\n",
              " ('.', '.'),\n",
              " ('Thisisanexampleofsupervisedlearning', 'NNP'),\n",
              " (',', ','),\n",
              " ('andiscarriedoutthroughback-', 'JJ'),\n",
              " ('propagation', 'NN'),\n",
              " (',', ','),\n",
              " ('ageneralizationoftheleastmeansquaresalgorithminthelinear', 'VBP'),\n",
              " ('1', 'CD'),\n",
              " ('arXiv:1802.00027v1', 'JJ'),\n",
              " ('[', 'NNP'),\n",
              " ('cs.LG', 'NN'),\n",
              " (']', 'VBD'),\n",
              " ('25', 'CD'),\n",
              " ('Jan', 'NNP'),\n",
              " ('2018', 'CD')]"
            ]
          },
          "metadata": {
            "tags": []
          },
          "execution_count": 18
        }
      ]
    },
    {
      "metadata": {
        "id": "8r430TKR_C-P",
        "colab_type": "code",
        "colab": {},
        "outputId": "d3d3d3cd-a2f9-4ed7-b116-319f47d7e598"
      },
      "cell_type": "code",
      "source": [
        "pattern = 'NP: {<DT>?<JJ>*<NN>}'\n",
        "cp = nltk.RegexpParser(pattern)\n",
        "cs = cp.parse(sent)\n",
        "print(cs)"
      ],
      "execution_count": 0,
      "outputs": [
        {
          "output_type": "stream",
          "text": [
            "(S\n",
            "  ANewBackpropagationAlgorithmwithout/IN\n",
            "  GradientDescent/NNP\n",
            "  VarunRanganathan/NNP\n",
            "  StudentatPESUniversity/NNP\n",
            "  varunranga1997/VBP\n",
            "  @/NNP\n",
            "  (NP hotmail.com/NN)\n",
            "  S.Natarajan/NNP\n",
            "  ProfessoratPESUniversity/NNP\n",
            "  natarajan/RB\n",
            "  @/NNP\n",
            "  (NP pes.edu/NN)\n",
            "  January2018/NNP\n",
            "  Abstract/NNP\n",
            "  Thebackpropagationalgorithm/NNP\n",
            "  ,/,\n",
            "  whichhadbeenoriginallyintroduced/VBD\n",
            "  inthe1970s/NNS\n",
            "  ,/,\n",
            "  (NP\n",
            "    istheworkhorseoflearninginneuralnetworks.Thisback-/JJ\n",
            "    propagationalgorithmmakesuseofthefamousmachinelearningalgo-/JJ\n",
            "    rithmknownasGradientDescent/NN)\n",
            "  ,/,\n",
            "  (NP\n",
            "    whichisaiterativeopti-/JJ\n",
            "    mizationalgorithmfortheminimumofafunction.Toalocal/JJ\n",
            "    minimumofafunctionusinggradientdescent/NN)\n",
            "  ,/,\n",
            "  (NP onetakesstepspropor-/JJ tionaltothenegativeofthegradient/NN)\n",
            "  (/(\n",
            "  (NP oroftheapproximategradient/NN)\n",
            "  )/)\n",
            "  (NP ofthefunctionatthecurrentpoint.Inthispaper/NN)\n",
            "  ,/,\n",
            "  (NP\n",
            "    wedevelopanalter-/JJ\n",
            "    nativetothebackpropagationwithouttheuseoftheGradientDescent/NN)\n",
            "  Algorithm/NNP\n",
            "  ,/,\n",
            "  butinsteadwearegoingtodeviseanewalgorithmtothe/VBD\n",
            "  errorintheweightsandbiasesofanneuronusingMoore-Penrose/JJ\n",
            "  PseudoInverse.Thenumericalstudiesandtheexperimentsperformedon/NNP\n",
            "  (NP\n",
            "    variousdatasetsareusedtoverifytheworkingofthisalternativealgo-/NN)\n",
            "  (NP rithm/NN)\n",
            "  ./.\n",
            "  IndexTerms/NNP\n",
            "  {/(\n",
            "  MachineLearning/NNP\n",
            "  ,/,\n",
            "  NeuralNetwork/NNP\n",
            "  (/(\n",
            "  ANN/NNP\n",
            "  )/)\n",
            "  ,/,\n",
            "  Back-/NNP\n",
            "  (NP propagation/NN)\n",
            "  ,/,\n",
            "  Moore-PenrosePseudoInverse/NNP\n",
            "  ./.\n",
            "  1Introduction/CD\n",
            "  NeuralNetwork/NNP\n",
            "  (/(\n",
            "  ANN/NNP\n",
            "  )/)\n",
            "  ,/,\n",
            "  inspiredbybiologicalneuralnetworks/NNS\n",
            "  ,/,\n",
            "  is/VBZ\n",
            "  (NP\n",
            "    basedonacollectionofconnectedunitsornodescalledneurons.These/JJ\n",
            "    systemsareusedasalearningalgorithmwhichtriestomimichowthebrain/NN)\n",
            "  works.ANNsareconsiderasuniversalfunctionapproximators/NNS\n",
            "  ,/,\n",
            "  (NP thatis/NN)\n",
            "  ,/,\n",
            "  (NP\n",
            "    itcan/JJ\n",
            "    approximatethefunctionforthedatasentthroughit.Itisbasedonthemul-/JJ\n",
            "    tilayerperceptron/NN)\n",
            "  [/$\n",
            "  3/CD\n",
            "  ]/NNP\n",
            "  modelwhichisaclassoffeedforwardneural/JJ\n",
            "  networks/NNS\n",
            "  ,/,\n",
            "  (NP consistingofatleastthreelayersofmodels.Learningoccursinthe/NN)\n",
            "  perceptronbychangingconnectionweightsaftereachpieceofdataisprocessed/VBN\n",
            "  ,/,\n",
            "  (NP\n",
            "    basedontheamountoferrorintheoutputcomparedtotheexpectedresult/NN)\n",
            "  ./.\n",
            "  Thisisanexampleofsupervisedlearning/NNP\n",
            "  ,/,\n",
            "  (NP andiscarriedoutthroughback-/JJ propagation/NN)\n",
            "  ,/,\n",
            "  ageneralizationoftheleastmeansquaresalgorithminthelinear/VBP\n",
            "  1/CD\n",
            "  arXiv:1802.00027v1/JJ\n",
            "  [/NNP\n",
            "  (NP cs.LG/NN)\n",
            "  ]/VBD\n",
            "  25/CD\n",
            "  Jan/NNP\n",
            "  2018/CD)\n"
          ],
          "name": "stdout"
        }
      ]
    },
    {
      "metadata": {
        "id": "BszcYfIV_C-T",
        "colab_type": "code",
        "colab": {},
        "outputId": "fdfa8c03-4f25-4da7-d320-56597cd8331b"
      },
      "cell_type": "code",
      "source": [
        "from nltk.chunk import conlltags2tree, tree2conlltags\n",
        "from pprint import pprint\n",
        "iob_tagged = tree2conlltags(cs)\n",
        "pprint(iob_tagged)\n"
      ],
      "execution_count": 0,
      "outputs": [
        {
          "output_type": "stream",
          "text": [
            "[('ANewBackpropagationAlgorithmwithout', 'IN', 'O'),\n",
            " ('GradientDescent', 'NNP', 'O'),\n",
            " ('VarunRanganathan', 'NNP', 'O'),\n",
            " ('StudentatPESUniversity', 'NNP', 'O'),\n",
            " ('varunranga1997', 'VBP', 'O'),\n",
            " ('@', 'NNP', 'O'),\n",
            " ('hotmail.com', 'NN', 'B-NP'),\n",
            " ('S.Natarajan', 'NNP', 'O'),\n",
            " ('ProfessoratPESUniversity', 'NNP', 'O'),\n",
            " ('natarajan', 'RB', 'O'),\n",
            " ('@', 'NNP', 'O'),\n",
            " ('pes.edu', 'NN', 'B-NP'),\n",
            " ('January2018', 'NNP', 'O'),\n",
            " ('Abstract', 'NNP', 'O'),\n",
            " ('Thebackpropagationalgorithm', 'NNP', 'O'),\n",
            " (',', ',', 'O'),\n",
            " ('whichhadbeenoriginallyintroduced', 'VBD', 'O'),\n",
            " ('inthe1970s', 'NNS', 'O'),\n",
            " (',', ',', 'O'),\n",
            " ('istheworkhorseoflearninginneuralnetworks.Thisback-', 'JJ', 'B-NP'),\n",
            " ('propagationalgorithmmakesuseofthefamousmachinelearningalgo-', 'JJ', 'I-NP'),\n",
            " ('rithmknownasGradientDescent', 'NN', 'I-NP'),\n",
            " (',', ',', 'O'),\n",
            " ('whichisaiterativeopti-', 'JJ', 'B-NP'),\n",
            " ('mizationalgorithmfortheminimumofafunction.Toalocal', 'JJ', 'I-NP'),\n",
            " ('minimumofafunctionusinggradientdescent', 'NN', 'I-NP'),\n",
            " (',', ',', 'O'),\n",
            " ('onetakesstepspropor-', 'JJ', 'B-NP'),\n",
            " ('tionaltothenegativeofthegradient', 'NN', 'I-NP'),\n",
            " ('(', '(', 'O'),\n",
            " ('oroftheapproximategradient', 'NN', 'B-NP'),\n",
            " (')', ')', 'O'),\n",
            " ('ofthefunctionatthecurrentpoint.Inthispaper', 'NN', 'B-NP'),\n",
            " (',', ',', 'O'),\n",
            " ('wedevelopanalter-', 'JJ', 'B-NP'),\n",
            " ('nativetothebackpropagationwithouttheuseoftheGradientDescent', 'NN', 'I-NP'),\n",
            " ('Algorithm', 'NNP', 'O'),\n",
            " (',', ',', 'O'),\n",
            " ('butinsteadwearegoingtodeviseanewalgorithmtothe', 'VBD', 'O'),\n",
            " ('errorintheweightsandbiasesofanneuronusingMoore-Penrose', 'JJ', 'O'),\n",
            " ('PseudoInverse.Thenumericalstudiesandtheexperimentsperformedon', 'NNP', 'O'),\n",
            " ('variousdatasetsareusedtoverifytheworkingofthisalternativealgo-',\n",
            "  'NN',\n",
            "  'B-NP'),\n",
            " ('rithm', 'NN', 'B-NP'),\n",
            " ('.', '.', 'O'),\n",
            " ('IndexTerms', 'NNP', 'O'),\n",
            " ('{', '(', 'O'),\n",
            " ('MachineLearning', 'NNP', 'O'),\n",
            " (',', ',', 'O'),\n",
            " ('NeuralNetwork', 'NNP', 'O'),\n",
            " ('(', '(', 'O'),\n",
            " ('ANN', 'NNP', 'O'),\n",
            " (')', ')', 'O'),\n",
            " (',', ',', 'O'),\n",
            " ('Back-', 'NNP', 'O'),\n",
            " ('propagation', 'NN', 'B-NP'),\n",
            " (',', ',', 'O'),\n",
            " ('Moore-PenrosePseudoInverse', 'NNP', 'O'),\n",
            " ('.', '.', 'O'),\n",
            " ('1Introduction', 'CD', 'O'),\n",
            " ('NeuralNetwork', 'NNP', 'O'),\n",
            " ('(', '(', 'O'),\n",
            " ('ANN', 'NNP', 'O'),\n",
            " (')', ')', 'O'),\n",
            " (',', ',', 'O'),\n",
            " ('inspiredbybiologicalneuralnetworks', 'NNS', 'O'),\n",
            " (',', ',', 'O'),\n",
            " ('is', 'VBZ', 'O'),\n",
            " ('basedonacollectionofconnectedunitsornodescalledneurons.These', 'JJ', 'B-NP'),\n",
            " ('systemsareusedasalearningalgorithmwhichtriestomimichowthebrain',\n",
            "  'NN',\n",
            "  'I-NP'),\n",
            " ('works.ANNsareconsiderasuniversalfunctionapproximators', 'NNS', 'O'),\n",
            " (',', ',', 'O'),\n",
            " ('thatis', 'NN', 'B-NP'),\n",
            " (',', ',', 'O'),\n",
            " ('itcan', 'JJ', 'B-NP'),\n",
            " ('approximatethefunctionforthedatasentthroughit.Itisbasedonthemul-',\n",
            "  'JJ',\n",
            "  'I-NP'),\n",
            " ('tilayerperceptron', 'NN', 'I-NP'),\n",
            " ('[', '$', 'O'),\n",
            " ('3', 'CD', 'O'),\n",
            " (']', 'NNP', 'O'),\n",
            " ('modelwhichisaclassoffeedforwardneural', 'JJ', 'O'),\n",
            " ('networks', 'NNS', 'O'),\n",
            " (',', ',', 'O'),\n",
            " ('consistingofatleastthreelayersofmodels.Learningoccursinthe', 'NN', 'B-NP'),\n",
            " ('perceptronbychangingconnectionweightsaftereachpieceofdataisprocessed',\n",
            "  'VBN',\n",
            "  'O'),\n",
            " (',', ',', 'O'),\n",
            " ('basedontheamountoferrorintheoutputcomparedtotheexpectedresult',\n",
            "  'NN',\n",
            "  'B-NP'),\n",
            " ('.', '.', 'O'),\n",
            " ('Thisisanexampleofsupervisedlearning', 'NNP', 'O'),\n",
            " (',', ',', 'O'),\n",
            " ('andiscarriedoutthroughback-', 'JJ', 'B-NP'),\n",
            " ('propagation', 'NN', 'I-NP'),\n",
            " (',', ',', 'O'),\n",
            " ('ageneralizationoftheleastmeansquaresalgorithminthelinear', 'VBP', 'O'),\n",
            " ('1', 'CD', 'O'),\n",
            " ('arXiv:1802.00027v1', 'JJ', 'O'),\n",
            " ('[', 'NNP', 'O'),\n",
            " ('cs.LG', 'NN', 'B-NP'),\n",
            " (']', 'VBD', 'O'),\n",
            " ('25', 'CD', 'O'),\n",
            " ('Jan', 'NNP', 'O'),\n",
            " ('2018', 'CD', 'O')]\n"
          ],
          "name": "stdout"
        }
      ]
    },
    {
      "metadata": {
        "id": "hexb4M3b_C-c",
        "colab_type": "code",
        "colab": {
          "base_uri": "https://localhost:8080/",
          "height": 224
        },
        "outputId": "ac08ef98-fbe1-44dc-9067-2c6f8d7fdd8d"
      },
      "cell_type": "code",
      "source": [
        "#Named Entity Recognition\n",
        "\n",
        "import nltk \n",
        "nltk.download('punkt')\n",
        "nltk.download('averaged_perceptron_tagger')\n",
        "sample =\" I got Motorola G5 Plus\"\n",
        "nltk.download('maxent_ne_chunker')\n",
        "nltk.download('words')\n",
        "\n",
        "sentences = nltk.sent_tokenize(sample)\n",
        "tokenized_sentences = [nltk.word_tokenize(sentence) for sentence in sentences]\n",
        "tagged_sentences = [nltk.pos_tag(sentence) for sentence in tokenized_sentences]\n",
        "chunked_sentences = nltk.ne_chunk_sents(tagged_sentences, binary=True)\n",
        "\n",
        "def extract_entity_names(t):\n",
        "    entity_names = []\n",
        "\n",
        "    if hasattr(t, 'label') and t.label:\n",
        "        if t.label() == 'NE':\n",
        "            entity_names.append(' '.join([child[0] for child in t]))\n",
        "        else:\n",
        "            for child in t:\n",
        "                entity_names.extend(extract_entity_names(child))\n",
        "\n",
        "    return entity_names\n",
        "\n",
        "entity_names = []\n",
        "for tree in chunked_sentences:\n",
        "    # Print results per sentence\n",
        "    # print extract_entity_names(tree)\n",
        "\n",
        "    entity_names.extend(extract_entity_names(tree))\n",
        "\n",
        "# Print all entity names\n",
        "#print entity_names\n",
        "\n",
        "# Print unique entity names\n",
        "print(entity_names)"
      ],
      "execution_count": 10,
      "outputs": [
        {
          "output_type": "stream",
          "text": [
            "[nltk_data] Downloading package punkt to /root/nltk_data...\n",
            "[nltk_data]   Package punkt is already up-to-date!\n",
            "[nltk_data] Downloading package averaged_perceptron_tagger to\n",
            "[nltk_data]     /root/nltk_data...\n",
            "[nltk_data]   Package averaged_perceptron_tagger is already up-to-\n",
            "[nltk_data]       date!\n",
            "[nltk_data] Downloading package maxent_ne_chunker to\n",
            "[nltk_data]     /root/nltk_data...\n",
            "[nltk_data]   Package maxent_ne_chunker is already up-to-date!\n",
            "[nltk_data] Downloading package words to /root/nltk_data...\n",
            "[nltk_data]   Package words is already up-to-date!\n",
            "['Motorola G5 Plus']\n"
          ],
          "name": "stdout"
        }
      ]
    },
    {
      "metadata": {
        "id": "-7T8bxdE_JI4",
        "colab_type": "code",
        "colab": {}
      },
      "cell_type": "code",
      "source": [
        ""
      ],
      "execution_count": 0,
      "outputs": []
    },
    {
      "metadata": {
        "id": "Xga3e1ZwB71a",
        "colab_type": "code",
        "colab": {}
      },
      "cell_type": "code",
      "source": [
        ""
      ],
      "execution_count": 0,
      "outputs": []
    }
  ]
}